{
  "nbformat": 4,
  "nbformat_minor": 0,
  "metadata": {
    "colab": {
      "name": "ORB.ipynb",
      "provenance": [],
      "collapsed_sections": [],
      "authorship_tag": "ABX9TyMfg80Y5/mksyDt2HyadTA7",
      "include_colab_link": true
    },
    "kernelspec": {
      "name": "python3",
      "display_name": "Python 3"
    },
    "language_info": {
      "name": "python"
    }
  },
  "cells": [
    {
      "cell_type": "markdown",
      "metadata": {
        "id": "view-in-github",
        "colab_type": "text"
      },
      "source": [
        "<a href=\"https://colab.research.google.com/github/joyamp/Carcatarea/blob/main/ORB.ipynb\" target=\"_parent\"><img src=\"https://colab.research.google.com/assets/colab-badge.svg\" alt=\"Open In Colab\"/></a>"
      ]
    },
    {
      "cell_type": "code",
      "metadata": {
        "colab": {
          "base_uri": "https://localhost:8080/"
        },
        "id": "9OnX4FiYYybF",
        "outputId": "d79ed322-95f6-491c-dd07-2998302b9029"
      },
      "source": [
        "!pip install opencv-python==4.2.0.34 opencv-contrib-python==4.2.0.34"
      ],
      "execution_count": 26,
      "outputs": [
        {
          "output_type": "stream",
          "text": [
            "Requirement already satisfied: opencv-python==4.2.0.34 in /usr/local/lib/python3.7/dist-packages (4.2.0.34)\n",
            "Requirement already satisfied: opencv-contrib-python==4.2.0.34 in /usr/local/lib/python3.7/dist-packages (4.2.0.34)\n",
            "Requirement already satisfied: numpy>=1.14.5 in /usr/local/lib/python3.7/dist-packages (from opencv-python==4.2.0.34) (1.19.5)\n"
          ],
          "name": "stdout"
        }
      ]
    },
    {
      "cell_type": "code",
      "metadata": {
        "colab": {
          "base_uri": "https://localhost:8080/"
        },
        "id": "WXhe59IVZUeK",
        "outputId": "e77601b6-1abf-47e9-f8b4-7661219df250"
      },
      "source": [
        "!git clone https://github.com/joyamp/Carcatarea.git\n",
        "%cd /content/Carcatarea"
      ],
      "execution_count": 27,
      "outputs": [
        {
          "output_type": "stream",
          "text": [
            "fatal: destination path 'Carcatarea' already exists and is not an empty directory.\n",
            "/content/Carcatarea\n"
          ],
          "name": "stdout"
        }
      ]
    },
    {
      "cell_type": "code",
      "metadata": {
        "colab": {
          "base_uri": "https://localhost:8080/",
          "height": 374
        },
        "id": "7YAELR9PZUTC",
        "outputId": "a1dc2711-63fd-46ba-dea3-31ecf0e9eb38"
      },
      "source": [
        "import numpy as np\n",
        "import matplotlib.pyplot as plt\n",
        "import cv2\n",
        "\n",
        "# directorio que contiene las imágenes de referencia\n",
        "dir_path = 'Carcatarea/TileAssets'\n",
        "img_path = 'Carcatarea/TileAssets/4G5R.PNG'\n",
        "img = cv2.imread(img_path)\n",
        "img = cv2.cvtColor(img, cv2.COLOR_BGR2RGB)\n",
        "\n",
        "# visualizar imagen\n",
        "fig = plt.figure(figsize=(6, 6))\n",
        "plt.imshow(img)\n",
        "plt.axis('off')"
      ],
      "execution_count": 33,
      "outputs": [
        {
          "output_type": "execute_result",
          "data": {
            "text/plain": [
              "(-0.5, 89.5, 89.5, -0.5)"
            ]
          },
          "metadata": {
            "tags": []
          },
          "execution_count": 33
        },
        {
          "output_type": "display_data",
          "data": {
            "image/png": "[encoded data removed]",
            "text/plain": [
              "<Figure size 432x432 with 1 Axes>"
            ]
          },
          "metadata": {
            "tags": [],
            "needs_background": "light"
          }
        }
      ]
    },
    {
      "cell_type": "code",
      "metadata": {
        "id": "GAVoScZAizcy"
      },
      "source": [
        "#Funcion para extraer keypoint y descriptores de todas las cartas\n",
        "\n",
        "def Getlist_Keypoints_ORB(dir_path):\n",
        "  import os\n",
        "  img_list = os.listdir(dir_path)\n",
        "  ref_imgs, ref_names = [], []\n",
        "\n",
        "# por cada imagen .png en img_list\n",
        "  for filename in img_list:\n",
        "    img_name, _ = os.path.splitext(filename)\n",
        "    img_path = os.path.join(dir_path, filename)\n",
        "    img = cv2.imread(img_path)\n",
        "    ref_imgs.append(img)\n",
        "    ref_names.append(img_name)\n",
        "\n",
        "  # inicializar orb detector\n",
        "  orb=cv2.ORB_create()\n",
        "\n",
        "  ref_features = []\n",
        "  for img in ref_imgs:\n",
        "    gray = cv2.cvtColor(img, cv2.COLOR_BGR2GRAY)\n",
        "    # computar keypoint y descritores\n",
        "    kps, des = orb.detectAndCompute(gray, None)\n",
        " \n",
        "    if len(kps) != 0:\n",
        "      # agregar a lista\n",
        "      ref_features.append( (kps, des) )\n",
        "  \n",
        "  return ref_features,ref_imgs,ref_names\n"
      ],
      "execution_count": 34,
      "outputs": []
    },
    {
      "cell_type": "code",
      "metadata": {
        "id": "MfrH77YcN9Mh"
      },
      "source": [
        "\n",
        "def ORB_kps_des(img):\n",
        "  orb=cv2.ORB_create()\n",
        "  gray = cv2.cvtColor(img, cv2.COLOR_BGR2GRAY)\n",
        "  kps, des = orb.detectAndCompute(gray, mask=None)\n",
        "  return kps,des"
      ],
      "execution_count": 35,
      "outputs": []
    },
    {
      "cell_type": "code",
      "metadata": {
        "id": "_LRyz-8aEGXz"
      },
      "source": [
        "def Matcher(kps,des,ref_features):\n",
        "  # inicializar BruteForce Matcher\n",
        "  # con criterio de distancia euclidiana, cv2.NORM_L2\n",
        "  BruteForce = cv2.BFMatcher(normType=cv2.NORM_L2)\n",
        "\n",
        "  # inicilizar lista que contendrá la cantida de coincidencias\n",
        "  items=len(ref_features)\n",
        "  ref_votes = np.zeros( (items, ) )\n",
        "\n",
        "  # para cada carta de referencia\n",
        "  for i, feature in enumerate( ref_features ):\n",
        "    # extraer keypoints y descriptores\n",
        "    kps_ref, des_ref = feature\n",
        "\n",
        "    # para cada decriptor de img_01.jpg, encontrar los 2 mejores matches\n",
        "    # con respecto a los descriptores de las cartas de referencia\n",
        "    matches = BruteForce.knnMatch(des, des_ref, k=2)\n",
        "\n",
        "    # por cada par de matches (match_1, match_2) obtenido\n",
        "    # para cada descriptor en des_ref\n",
        "    for match_1, match_2 in matches:\n",
        "\n",
        "      # aplicar ratio test para filtrar matches\n",
        "      ratio = 0.5\n",
        "      if match_1.distance < ratio*match_2.distance:\n",
        "        # agregar voto de match válido\n",
        "        ref_votes[i] += 1\n",
        "  \n",
        "  return ref_votes\n",
        "\n"
      ],
      "execution_count": 36,
      "outputs": []
    },
    {
      "cell_type": "code",
      "metadata": {
        "colab": {
          "base_uri": "https://localhost:8080/"
        },
        "id": "72Z_xkkEOjGg",
        "outputId": "52946fe3-1375-4a76-ff99-1820e407f700"
      },
      "source": [
        "ref_features,ref_imgs,ref_names=Getlist_Keypoints_ORB(dir_path)\n",
        "kps,des=ORB_kps_des(img)\n",
        "ref_votes=Matcher(kps,des,ref_features)\n",
        "\n",
        "# ------------------------------------------------------------------------------\n",
        "# print cantidad de votos\n",
        "print('cantidad de votos:\\n', ref_votes)\n",
        "\n",
        "# obtener carta de coincidencia y probabilidad\n",
        "ref_idx = np.argmax(ref_votes)\n",
        "proba = ref_votes[ref_idx]/np.sum(ref_votes)\n",
        "\n",
        "# print resultado\n",
        "name = ref_names[ref_idx]\n",
        "print('\\n{:10s} {:2.1f}%'.format(name, proba*100))"
      ],
      "execution_count": 37,
      "outputs": [
        {
          "output_type": "stream",
          "text": [
            "cantidad de votos:\n",
            " [12.  0.  0.  0.  0.  0.  0. 12.  0.  0.  0.  0.  0.  0.  0.  0.  0.  0.\n",
            "  0.  0.  0.  0.  0.  0.  0.]\n",
            "\n",
            "4G5R       50.0%\n"
          ],
          "name": "stdout"
        }
      ]
    }
  ]
}